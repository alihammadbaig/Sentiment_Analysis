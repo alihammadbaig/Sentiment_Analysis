{
  "nbformat": 4,
  "nbformat_minor": 0,
  "metadata": {
    "colab": {
      "name": "Sentiment Analyzer using Python and Google NL API",
      "version": "0.3.2",
      "provenance": [],
      "include_colab_link": true
    },
    "kernelspec": {
      "name": "python3",
      "display_name": "Python 3"
    }
  },
  "cells": [
    {
      "cell_type": "markdown",
      "metadata": {
        "id": "view-in-github",
        "colab_type": "text"
      },
      "source": [
        "<a href=\"https://colab.research.google.com/github/alihammadbaig/Sentiment_Analysis/blob/master/Sentiment_Analyzer_using_Python_and_Google_NL_API.ipynb\" target=\"_parent\"><img src=\"https://colab.research.google.com/assets/colab-badge.svg\" alt=\"Open In Colab\"/></a>"
      ]
    },
    {
      "cell_type": "markdown",
      "metadata": {
        "id": "NMuajvCcKpKd",
        "colab_type": "text"
      },
      "source": [
        "**I'm going to make a Telegram Bot that will do the sentiment analysis of tweets related to the keyword that we define.**"
      ]
    },
    {
      "cell_type": "markdown",
      "metadata": {
        "id": "m8_3V3iAJiZv",
        "colab_type": "text"
      },
      "source": [
        "# Libraries\n",
        "\n",
        "\n",
        "*   [Tweepy](http://www.tweepy.org/) to gather tweet data\n",
        "*   [nltk](https://www.nltk.org/) to cleanse the tweets\n",
        "*  [Google Natural Language API](https://cloud.google.com/natural-language/) for sentiment analysis\n",
        "*  [Python Telegram Bot](https://github.com/python-telegram-bot/python-telegram-bot) to send the results through Telegram chat\n",
        "\n"
      ]
    },
    {
      "cell_type": "code",
      "metadata": {
        "id": "25m4Dn3uJWop",
        "colab_type": "code",
        "colab": {}
      },
      "source": [
        "from google.colab import drive\n",
        "drive.mount('/content/gdrive')"
      ],
      "execution_count": 0,
      "outputs": []
    },
    {
      "cell_type": "code",
      "metadata": {
        "id": "XmlNT86gJY7e",
        "colab_type": "code",
        "colab": {}
      },
      "source": [
        "!ls \"/content/gdrive/My Drive/Colab Notebooks/data/\""
      ],
      "execution_count": 0,
      "outputs": []
    },
    {
      "cell_type": "code",
      "metadata": {
        "id": "WH9VqXppK2O6",
        "colab_type": "code",
        "colab": {}
      },
      "source": [
        "!pip install tweepy\n",
        "!pip install nltk\n",
        "!pip install google-cloud-language\n",
        "!pip install python-telegram-bot"
      ],
      "execution_count": 0,
      "outputs": []
    },
    {
      "cell_type": "code",
      "metadata": {
        "id": "WrraJxj7Q87X",
        "colab_type": "code",
        "colab": {}
      },
      "source": [
        "!export GOOGLE_APPLICATION_CREDENTIALS=\"/content/gdrive/My Drive/Colab Notebooks/data/creds.json\""
      ],
      "execution_count": 0,
      "outputs": []
    },
    {
      "cell_type": "code",
      "metadata": {
        "id": "UkQIqfLmns9n",
        "colab_type": "code",
        "colab": {}
      },
      "source": [
        "import os\n",
        "os.environ[\"GOOGLE_APPLICATION_CREDENTIALS\"]=\"/content/gdrive/My Drive/Colab Notebooks/data/creds.json\""
      ],
      "execution_count": 0,
      "outputs": []
    },
    {
      "cell_type": "markdown",
      "metadata": {
        "id": "jseeOlZFRhlz",
        "colab_type": "text"
      },
      "source": [
        "# Plan of Action"
      ]
    },
    {
      "cell_type": "markdown",
      "metadata": {
        "id": "Brpbg6pmRkIa",
        "colab_type": "text"
      },
      "source": [
        "**This program will gather all the tweets containing the defined keyword in the last 24 hours with a maximum of 50 tweets. Then it will analyze the tweets’ sentiments one by one. We will send the result (average sentiment score) through Telegram chat.**\n",
        "\n",
        "This is a simple workflow of our program.\n",
        "\n",
        "connect to the Twitter API -> search tweets based on the keyword -> clean all of the tweets -> get tweet’s sentiment score -> send the result"
      ]
    },
    {
      "cell_type": "markdown",
      "metadata": {
        "id": "hKXNiXVoRwlo",
        "colab_type": "text"
      },
      "source": [
        "## 1-Connect to the Twitter API"
      ]
    },
    {
      "cell_type": "code",
      "metadata": {
        "id": "LFAXlSqLRI1m",
        "colab_type": "code",
        "colab": {}
      },
      "source": [
        "import tweepy"
      ],
      "execution_count": 0,
      "outputs": []
    },
    {
      "cell_type": "code",
      "metadata": {
        "id": "FSQ57-9NR11s",
        "colab_type": "code",
        "colab": {}
      },
      "source": [
        "ACC_TOKEN = ''\n",
        "ACC_SECRET = ''\n",
        "CONS_KEY = ''\n",
        "CONS_SECRET = ''"
      ],
      "execution_count": 0,
      "outputs": []
    },
    {
      "cell_type": "markdown",
      "metadata": {
        "id": "uu0QK7TpSXcx",
        "colab_type": "text"
      },
      "source": [
        "### API Authentication"
      ]
    },
    {
      "cell_type": "code",
      "metadata": {
        "id": "xwGXyYpaSH4G",
        "colab_type": "code",
        "colab": {}
      },
      "source": [
        "def authentication(cons_key, cons_secret, acc_token, acc_secret):\n",
        "    auth = tweepy.OAuthHandler(cons_key, cons_secret)\n",
        "    auth.set_access_token(acc_token, acc_secret)\n",
        "    api = tweepy.API(auth)\n",
        "    return api"
      ],
      "execution_count": 0,
      "outputs": []
    },
    {
      "cell_type": "markdown",
      "metadata": {
        "id": "uT-CH2DmSOhc",
        "colab_type": "text"
      },
      "source": [
        "### Search the Tweets"
      ]
    },
    {
      "cell_type": "code",
      "metadata": {
        "id": "3xHENRvZTwS9",
        "colab_type": "code",
        "colab": {}
      },
      "source": [
        "def search_tweets(keyword, total_tweets):\n",
        "    # gather the tweets from the last 24 hours\n",
        "    today_datetime = datetime.today().now()\n",
        "    yesterday_datetime = today_datetime - timedelta(days=1)\n",
        "    today_date = today_datetime.strftime('%Y-%m-%d')\n",
        "    yesterday_date = yesterday_datetime.strftime('%Y-%m-%d')\n",
        "    \n",
        "    api = authentication(CONS_KEY,CONS_SECRET,ACC_TOKEN,ACC_SECRET)\n",
        "    \n",
        "    search_result = tweepy.Cursor(api.search, \n",
        "                                  q=keyword, \n",
        "                                  since=yesterday_date, \n",
        "                                  result_type='recent', \n",
        "                                  lang='en').items(total_tweets)\n",
        "    \n",
        "    return search_result"
      ],
      "execution_count": 0,
      "outputs": []
    },
    {
      "cell_type": "markdown",
      "metadata": {
        "id": "vgHdPvD_VXo1",
        "colab_type": "text"
      },
      "source": [
        "### Clean the Tweets"
      ]
    },
    {
      "cell_type": "markdown",
      "metadata": {
        "id": "NxK46cubVf6x",
        "colab_type": "text"
      },
      "source": [
        "* Lets clean the tweets for Google NL API to perform better\n",
        "* I'll use NLTK and a bit of RegEx to clean the tweets"
      ]
    },
    {
      "cell_type": "code",
      "metadata": {
        "id": "Q82tmXgnVaKC",
        "colab_type": "code",
        "colab": {}
      },
      "source": [
        "import re\n",
        "from nltk.tokenize import WordPunctTokenizer"
      ],
      "execution_count": 0,
      "outputs": []
    },
    {
      "cell_type": "code",
      "metadata": {
        "id": "Sw937p_MWFM3",
        "colab_type": "code",
        "colab": {}
      },
      "source": [
        "def clean_tweets(tweet):\n",
        "    user_removed = re.sub(r'@[A-Za-z0-9]+','',tweet.decode('utf-8'))\n",
        "    link_removed = re.sub('https?://[A-Za-z0-9./]+','',user_removed)\n",
        "    number_removed = re.sub('[^a-zA-Z]', ' ', link_removed)\n",
        "    lower_case_tweet= number_removed.lower()\n",
        "    tok = WordPunctTokenizer()\n",
        "    words = tok.tokenize(lower_case_tweet)\n",
        "    clean_tweet = (' '.join(words)).strip()\n",
        "    return clean_tweet"
      ],
      "execution_count": 0,
      "outputs": []
    },
    {
      "cell_type": "markdown",
      "metadata": {
        "id": "QJRNK_MCWeU4",
        "colab_type": "text"
      },
      "source": [
        "### Get tweet’s sentiment"
      ]
    },
    {
      "cell_type": "code",
      "metadata": {
        "id": "gd_ugyrGWbHX",
        "colab_type": "code",
        "colab": {}
      },
      "source": [
        "from google.cloud import language\n",
        "from google.cloud.language import enums\n",
        "from google.cloud.language import types"
      ],
      "execution_count": 0,
      "outputs": []
    },
    {
      "cell_type": "markdown",
      "metadata": {
        "id": "kWYOKQW-W73D",
        "colab_type": "text"
      },
      "source": [
        "Make a function called get_sentiment_score which takes tweet as the parameter, and returns the sentiment score."
      ]
    },
    {
      "cell_type": "code",
      "metadata": {
        "id": "5iY1Jz8tW15E",
        "colab_type": "code",
        "colab": {}
      },
      "source": [
        "def get_sentiment_score(tweet):\n",
        "    client = language.LanguageServiceClient()\n",
        "    document = types\\\n",
        "               .Document(content=tweet,\n",
        "                         type=enums.Document.Type.PLAIN_TEXT)\n",
        "    sentiment_score = client\\\n",
        "                      .analyze_sentiment(document=document)\\\n",
        "                      .document_sentiment\\\n",
        "                      .score\n",
        "    return sentiment_score"
      ],
      "execution_count": 0,
      "outputs": []
    },
    {
      "cell_type": "markdown",
      "metadata": {
        "id": "mzVsvgSDarri",
        "colab_type": "text"
      },
      "source": [
        "### Analyze the tweets"
      ]
    },
    {
      "cell_type": "code",
      "metadata": {
        "id": "5cmUIMCeW92H",
        "colab_type": "code",
        "colab": {}
      },
      "source": [
        "def analyze_tweets(keyword, total_tweets):\n",
        "    score = 0\n",
        "    tweets = search_tweets(keyword, total_tweets)\n",
        "    for tweet in tweets:\n",
        "        cleaned_tweet = clean_tweets(tweet.text.encode('utf-8'))\n",
        "        sentiment_score = get_sentiment_score(cleaned_tweet)\n",
        "        score += sentiment_score\n",
        "        print('Tweet: {}'.format(cleaned_tweet))\n",
        "        print('Score: {}\\n'.format(sentiment_score))\n",
        "    final_score = round((score / float(total_tweets)),2)\n",
        "    return final_score"
      ],
      "execution_count": 0,
      "outputs": []
    },
    {
      "cell_type": "code",
      "metadata": {
        "id": "Bx-zyuSEjiu7",
        "colab_type": "code",
        "colab": {}
      },
      "source": [
        "def send_the_result(bot, update):\n",
        "    keyword = update.message.text\n",
        "    final_score = analyze_tweets(keyword, 50)\n",
        "    if final_score <= -0.25:\n",
        "        status = 'NEGATIVE | ❌'\n",
        "    elif final_score <= 0.25:\n",
        "        status = 'NEUTRAL | 🔶'\n",
        "    else:\n",
        "        status = 'POSITIVE | ✅'\n",
        "#     bot.send_message(chat_id=update.message.chat_id,\n",
        "#                      text='Average score for '\n",
        "#                            + str(keyword) \n",
        "#                            + ' is ' \n",
        "#                            + str(final_score) \n",
        "#                            + ' | ' + status)"
      ],
      "execution_count": 0,
      "outputs": []
    },
    {
      "cell_type": "code",
      "metadata": {
        "id": "hw7Gv3qvjtqI",
        "colab_type": "code",
        "colab": {
          "base_uri": "https://localhost:8080/",
          "height": 2537
        },
        "outputId": "6fc44019-66aa-43e8-84ac-7ec44a24fcf9"
      },
      "source": [
        "# from telegram.ext import Updater, MessageHandler, Filters\n",
        "\n",
        "def main():\n",
        "#     updater = Updater('YOUR_TOKEN')\n",
        "#     dp = updater.dispatcher\n",
        "#     dp.add_handler(MessageHandler(Filters.text, send_the_result))\n",
        "#     updater.start_polling()\n",
        "#     updater.idle()\n",
        "  analyze_tweets(\"sarfraz\", 50)\n",
        "\n",
        "if __name__ == '__main__':\n",
        "    main()"
      ],
      "execution_count": 30,
      "outputs": [
        {
          "output_type": "stream",
          "text": [
            "Tweet: cheif selector inzamam ul haq is also involved in all that he is one of main reason behind issues in pak cricket\n",
            "Score: 0.0\n",
            "\n",
            "Tweet: families ko kis ney kia kaha hai what did anyone say to amir or sarfraz family bus malik ko kiya\n",
            "Score: 0.0\n",
            "\n",
            "Tweet: rt if anyone can fix pak cricket in current circumstances it s pm khan himself he advised captain sarfraz now he\n",
            "Score: 0.0\n",
            "\n",
            "Tweet: our caption are not fit medicaly and is fit no role of sarfraz as captain in team sarfraz has no\n",
            "Score: 0.0\n",
            "\n",
            "Tweet: rt nikamii a group is active against sarfraz who want imad as captain that group has imad parchi imam malik etc in it\n",
            "Score: 0.6000000238418579\n",
            "\n",
            "Tweet: rt nikamii under champion sarfraz ahmed ct champion sarfraz ahmed quetta gladiators champion sarfraz ahmed haters sti\n",
            "Score: 0.4000000059604645\n",
            "\n",
            "Tweet: rt nikamii sarfraz was yawning during the match this clearly shows that he was suffering from restlessness according to media repo\n",
            "Score: -0.699999988079071\n",
            "\n",
            "Tweet: rt nikamii sarfraz was in favour of making m hussnain and asif ali play against india he tried his best to convince the management\n",
            "Score: 0.0\n",
            "\n",
            "Tweet: rt nikamii cheif selector inzamam ul haq is also involved in all that he is one of main reason behind issues in pak cricket team\n",
            "Score: 0.0\n",
            "\n",
            "Tweet: rt cricket issues lets not make cricket a religion its time oldies go home as hafeez shoaibmalik wahab sarfraz entire pcb m\n",
            "Score: -0.20000000298023224\n",
            "\n",
            "Tweet: rt only politicians bureaucrats are not looters but also sarfraz amp team also corrupt they must be held responsible for their\n",
            "Score: -0.5\n",
            "\n",
            "Tweet: sarfraz is not corrupt\n",
            "Score: -0.10000000149011612\n",
            "\n",
            "Tweet: rt cricket issues lets not make cricket a religion its time oldies go home as hafeez shoaibmalik wahab sarfraz entire pcb m\n",
            "Score: -0.20000000298023224\n",
            "\n",
            "Tweet: rt cricket issues lets not make cricket a religion its time oldies go home as hafeez shoaibmalik wahab sarfraz entire pcb m\n",
            "Score: -0.20000000298023224\n",
            "\n",
            "Tweet: rt nikamii don t blame sarfraz at the recent performance of pak cricket team he alone is not responsible for all\n",
            "Score: -0.10000000149011612\n",
            "\n",
            "Tweet: rt cricket issues lets not make cricket a religion its time oldies go home as hafeez shoaibmalik wahab sarfraz entire pcb m\n",
            "Score: -0.20000000298023224\n",
            "\n",
            "Tweet: rt banvwi cwc well done bangladesh congratulations wake up sarfraz\n",
            "Score: 0.800000011920929\n",
            "\n",
            "Tweet: i ve heard that sarfraz ahmad has came alone and rest of the team have came not with sarfraz they aren t even ta\n",
            "Score: -0.20000000298023224\n",
            "\n",
            "Tweet: you should sack sarfraz he is not captain material at all how many match winning innings he payed an\n",
            "Score: -0.20000000298023224\n",
            "\n",
            "Tweet: rt nikamii although sarfraz hasn t played well or u may say he isn ta good player but that doesn t mean everyone start mocking at h\n",
            "Score: -0.5\n",
            "\n",
            "Tweet: rt cricket issues lets not make cricket a religion its time oldies go home as hafeez shoaibmalik wahab sarfraz entire pcb m\n",
            "Score: -0.20000000298023224\n",
            "\n",
            "Tweet: alif doing a sarfraz\n",
            "Score: 0.10000000149011612\n",
            "\n",
            "Tweet: rt cheif selector inzamam ul haq is also involved in all that he is one of main reason behind issues in pak cricket te\n",
            "Score: 0.0\n",
            "\n",
            "Tweet: rt a group is active against sarfraz who want imad as captain that group has imad parchi imam malik etc in it\n",
            "Score: 0.5\n",
            "\n",
            "Tweet: rt a group is active against sarfraz who want imad as captain that group has imad parchi imam malik etc in it\n",
            "Score: 0.5\n",
            "\n",
            "Tweet: rt sarfraz agar runs b bana le ek inning to bhi iski support nh kronga men kabi for few reasons cant do smart captainc\n",
            "Score: -0.699999988079071\n",
            "\n",
            "Tweet: rt cricket issues lets not make cricket a religion its time oldies go home as hafeez shoaibmalik wahab sarfraz entire pcb m\n",
            "Score: -0.20000000298023224\n",
            "\n",
            "Tweet: rt nikamii although sarfraz hasn t played well or u may say he isn ta good player but that doesn t mean everyone start mocking at h\n",
            "Score: -0.5\n",
            "\n",
            "Tweet: rt we need an aggressive captain like imran khan we don t need a captain like sarfraz who is even not present in the ground me\n",
            "Score: -0.30000001192092896\n",
            "\n",
            "Tweet: rt nikamii a group is active against sarfraz who want imad as captain that group has imad parchi imam malik etc in it\n",
            "Score: 0.6000000238418579\n",
            "\n",
            "Tweet: rt nikamii cheif selector inzamam ul haq is also involved in all that he is one of main reason behind issues in pak cricket team\n",
            "Score: 0.0\n",
            "\n",
            "Tweet: rt sarfraz agar runs b bana le ek inning to bhi iski support nh kronga men kabi for few reasons cant do smart captainc\n",
            "Score: -0.699999988079071\n",
            "\n",
            "Tweet: rt only politicians bureaucrats are not looters but also sarfraz amp team also corrupt they must be held responsible for their\n",
            "Score: -0.5\n",
            "\n",
            "Tweet: rt only politicians bureaucrats are not looters but also sarfraz amp team also corrupt they must be held responsible for their\n",
            "Score: -0.5\n",
            "\n",
            "Tweet: rt cricket issues lets not make cricket a religion its time oldies go home as hafeez shoaibmalik wahab sarfraz entire pcb m\n",
            "Score: -0.20000000298023224\n",
            "\n",
            "Tweet: rt cricket issues lets not make cricket a religion its time oldies go home as hafeez shoaibmalik wahab sarfraz entire pcb m\n",
            "Score: -0.20000000298023224\n",
            "\n",
            "Tweet: rt sarfraz agar runs b bana le ek inning to bhi iski support nh kronga men kabi for few reasons cant do smart captainc\n",
            "Score: -0.699999988079071\n",
            "\n",
            "Tweet: rt cricket issues lets not make cricket a religion its time oldies go home as hafeez shoaibmalik wahab sarfraz entire pcb m\n",
            "Score: -0.20000000298023224\n",
            "\n",
            "Tweet: rt nikamii sarfraz was in favour of making m hussnain and asif ali play against india he tried his best to convince the management\n",
            "Score: 0.0\n",
            "\n",
            "Tweet: rt sarfraz agar runs b bana le ek inning to bhi iski support nh kronga men kabi for few reasons cant do smart captainc\n",
            "Score: -0.699999988079071\n",
            "\n",
            "Tweet: rt nikamii sarfraz was in favour of making m hussnain and asif ali play against india he tried his best to convince the management\n",
            "Score: 0.0\n",
            "\n",
            "Tweet: rt if anyone can fix pak cricket in current circumstances it s pm khan himself he advised captain sarfraz now he\n",
            "Score: 0.0\n",
            "\n",
            "Tweet: rt cricket issues lets not make cricket a religion its time oldies go home as hafeez shoaibmalik wahab sarfraz entire pcb m\n",
            "Score: -0.20000000298023224\n",
            "\n",
            "Tweet: rt nikamii a group is active against sarfraz who want imad as captain that group has imad parchi imam malik etc in it\n",
            "Score: 0.6000000238418579\n",
            "\n",
            "Tweet: that shows the confidence and self believe of bangladesh amp our pathetic annoyed captaincy is leading f\n",
            "Score: -0.699999988079071\n",
            "\n",
            "Tweet: rt nikamii sarfraz was yawning during the match this clearly shows that he was suffering from restlessness according to media repo\n",
            "Score: -0.699999988079071\n",
            "\n",
            "Tweet: rt cricket issues lets not make cricket a religion its time oldies go home as hafeez shoaibmalik wahab sarfraz entire pcb m\n",
            "Score: -0.20000000298023224\n",
            "\n",
            "Tweet: rt nikamii cheif selector inzamam ul haq is also involved in all that he is one of main reason behind issues in pak cricket team\n",
            "Score: 0.0\n",
            "\n",
            "Tweet: rt nikamii sarfraz was right what imad imam malik and wahab think they are keep your ego in pockets\n",
            "Score: 0.0\n",
            "\n",
            "Tweet: hafeez malik imam sarfraz nd all management nd coaching staff go to hell plz\n",
            "Score: -0.20000000298023224\n",
            "\n"
          ],
          "name": "stdout"
        }
      ]
    }
  ]
}