{
  "nbformat": 4,
  "nbformat_minor": 0,
  "metadata": {
    "colab": {
      "name": "Sentiment Analyzer using Python and Google NL API",
      "version": "0.3.2",
      "provenance": [],
      "include_colab_link": true
    },
    "kernelspec": {
      "name": "python3",
      "display_name": "Python 3"
    }
  },
  "cells": [
    {
      "cell_type": "markdown",
      "metadata": {
        "id": "view-in-github",
        "colab_type": "text"
      },
      "source": [
        "<a href=\"https://colab.research.google.com/github/alihammadbaig/Sentiment_Analysis/blob/master/Sentiment_Analyzer_using_Python_and_Google_NL_API.ipynb\" target=\"_parent\"><img src=\"https://colab.research.google.com/assets/colab-badge.svg\" alt=\"Open In Colab\"/></a>"
      ]
    },
    {
      "cell_type": "markdown",
      "metadata": {
        "id": "NMuajvCcKpKd",
        "colab_type": "text"
      },
      "source": [
        "**I'm going to make a Telegram Bot that will do the sentiment analysis of tweets related to the keyword that we define.**"
      ]
    },
    {
      "cell_type": "markdown",
      "metadata": {
        "id": "m8_3V3iAJiZv",
        "colab_type": "text"
      },
      "source": [
        "# Libraries\n",
        "\n",
        "\n",
        "*   [Tweepy](http://www.tweepy.org/) to gather tweet data\n",
        "*   [nltk](https://www.nltk.org/) to cleanse the tweets\n",
        "*  [Google Natural Language API](https://cloud.google.com/natural-language/) for sentiment analysis\n",
        "*  [Python Telegram Bot](https://github.com/python-telegram-bot/python-telegram-bot) to send the results through Telegram chat\n",
        "\n"
      ]
    },
    {
      "cell_type": "code",
      "metadata": {
        "id": "25m4Dn3uJWop",
        "colab_type": "code",
        "colab": {}
      },
      "source": [
        "from google.colab import drive\n",
        "drive.mount('/content/gdrive')"
      ],
      "execution_count": 0,
      "outputs": []
    },
    {
      "cell_type": "code",
      "metadata": {
        "id": "XmlNT86gJY7e",
        "colab_type": "code",
        "colab": {}
      },
      "source": [
        "!ls \"/content/gdrive/My Drive/Colab Notebooks/data/\""
      ],
      "execution_count": 0,
      "outputs": []
    },
    {
      "cell_type": "code",
      "metadata": {
        "id": "WH9VqXppK2O6",
        "colab_type": "code",
        "colab": {}
      },
      "source": [
        "!pip install tweepy\n",
        "!pip install nltk\n",
        "!pip install google-cloud-language\n",
        "!pip install python-telegram-bot"
      ],
      "execution_count": 0,
      "outputs": []
    },
    {
      "cell_type": "code",
      "metadata": {
        "id": "WrraJxj7Q87X",
        "colab_type": "code",
        "colab": {}
      },
      "source": [
        "!export GOOGLE_APPLICATION_CREDENTIALS=\"/content/gdrive/My Drive/Colab Notebooks/data/creds.json\""
      ],
      "execution_count": 0,
      "outputs": []
    },
    {
      "cell_type": "markdown",
      "metadata": {
        "id": "jseeOlZFRhlz",
        "colab_type": "text"
      },
      "source": [
        "# Plan of Action"
      ]
    },
    {
      "cell_type": "markdown",
      "metadata": {
        "id": "Brpbg6pmRkIa",
        "colab_type": "text"
      },
      "source": [
        "**This program will gather all the tweets containing the defined keyword in the last 24 hours with a maximum of 50 tweets. Then it will analyze the tweets’ sentiments one by one. We will send the result (average sentiment score) through Telegram chat.**\n",
        "\n",
        "This is a simple workflow of our program.\n",
        "\n",
        "connect to the Twitter API -> search tweets based on the keyword -> clean all of the tweets -> get tweet’s sentiment score -> send the result"
      ]
    },
    {
      "cell_type": "markdown",
      "metadata": {
        "id": "hKXNiXVoRwlo",
        "colab_type": "text"
      },
      "source": [
        "## 1-Connect to the Twitter API"
      ]
    },
    {
      "cell_type": "code",
      "metadata": {
        "id": "LFAXlSqLRI1m",
        "colab_type": "code",
        "colab": {}
      },
      "source": [
        "import tweepy"
      ],
      "execution_count": 0,
      "outputs": []
    },
    {
      "cell_type": "code",
      "metadata": {
        "id": "FSQ57-9NR11s",
        "colab_type": "code",
        "colab": {}
      },
      "source": [
        "ACC_TOKEN = '13933272-NZy9z26o4uMxRcCE0Z2eUM5RUHm5o7Q83S5uMhzI0'\n",
        "ACC_SECRET = 'NoTccC3XcaWxhTOvn5IaLDMrH2lhQS4iZ7bH2n0OKl0f0'\n",
        "CONS_KEY = 'TnFp4Au3MUuTTqNxSrtEz93Nq'\n",
        "CONS_SECRET = 'EPg80LOisTbmNEw3B967COugeQobo6BTBpr6M5BnLueFcHc2N2'"
      ],
      "execution_count": 0,
      "outputs": []
    },
    {
      "cell_type": "markdown",
      "metadata": {
        "id": "uu0QK7TpSXcx",
        "colab_type": "text"
      },
      "source": [
        "### API Authentication"
      ]
    },
    {
      "cell_type": "code",
      "metadata": {
        "id": "xwGXyYpaSH4G",
        "colab_type": "code",
        "colab": {}
      },
      "source": [
        "def authentication(cons_key, cons_secret, acc_token, acc_secret):\n",
        "    auth = tweepy.OAuthHandler(cons_key, cons_secret)\n",
        "    auth.set_access_token(acc_token, acc_secret)\n",
        "    api = tweepy.API(auth)\n",
        "    return api"
      ],
      "execution_count": 0,
      "outputs": []
    },
    {
      "cell_type": "markdown",
      "metadata": {
        "id": "uT-CH2DmSOhc",
        "colab_type": "text"
      },
      "source": [
        "### Search the Tweets"
      ]
    },
    {
      "cell_type": "code",
      "metadata": {
        "id": "3xHENRvZTwS9",
        "colab_type": "code",
        "colab": {}
      },
      "source": [
        "def search_tweets(keyword, total_tweets):\n",
        "    # gather the tweets from the last 24 hours\n",
        "    today_datetime = datetime.today().now()\n",
        "    yesterday_datetime = today_datetime - timedelta(days=1)\n",
        "    today_date = today_datetime.strftime('%Y-%m-%d')\n",
        "    yesterday_date = yesterday_datetime.strftime('%Y-%m-%d')\n",
        "    \n",
        "    api = authentication(CONS_KEY,CONS_SECRET,ACC_TOKEN,ACC_SECRET)\n",
        "    \n",
        "    search_result = tweepy.Cursor(api.search, \n",
        "                                  q=keyword, \n",
        "                                  since=yesterday_date, \n",
        "                                  result_type='recent', \n",
        "                                  lang='en').items(total_tweets)\n",
        "    \n",
        "    return search_result"
      ],
      "execution_count": 0,
      "outputs": []
    }
  ]
}