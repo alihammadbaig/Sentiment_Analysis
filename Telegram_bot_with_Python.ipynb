{
  "nbformat": 4,
  "nbformat_minor": 0,
  "metadata": {
    "colab": {
      "name": "Telegram bot with Python.ipynb",
      "version": "0.3.2",
      "provenance": [],
      "include_colab_link": true
    },
    "kernelspec": {
      "name": "python3",
      "display_name": "Python 3"
    }
  },
  "cells": [
    {
      "cell_type": "markdown",
      "metadata": {
        "id": "view-in-github",
        "colab_type": "text"
      },
      "source": [
        "<a href=\"https://colab.research.google.com/github/alihammadbaig/Sentiment_Analysis/blob/master/Telegram_bot_with_Python.ipynb\" target=\"_parent\"><img src=\"https://colab.research.google.com/assets/colab-badge.svg\" alt=\"Open In Colab\"/></a>"
      ]
    },
    {
      "cell_type": "markdown",
      "metadata": {
        "id": "mTxsczCr7HNr",
        "colab_type": "text"
      },
      "source": [
        "**For this tutorial, we are going to use Python 3, python-telegram-bot, and public API RandomDog."
      ]
    },
    {
      "cell_type": "code",
      "metadata": {
        "id": "0wBX_fmu2ZQw",
        "colab_type": "code",
        "colab": {}
      },
      "source": [
        "!pip install python-telegram-bot"
      ],
      "execution_count": 0,
      "outputs": []
    },
    {
      "cell_type": "code",
      "metadata": {
        "id": "mbcp16Wd5q96",
        "colab_type": "code",
        "colab": {}
      },
      "source": [
        "from telegram.ext import Updater, CommandHandler\n",
        "import requests\n",
        "import re"
      ],
      "execution_count": 0,
      "outputs": []
    },
    {
      "cell_type": "markdown",
      "metadata": {
        "id": "TycCfQk26uC1",
        "colab_type": "text"
      },
      "source": [
        "### Access the API\n",
        "A random api that generates random dog images"
      ]
    },
    {
      "cell_type": "code",
      "metadata": {
        "id": "m4Ple05U54YP",
        "colab_type": "code",
        "colab": {}
      },
      "source": [
        "def get_url():\n",
        "    contents = requests.get('https://random.dog/woof.json').json()\n",
        "    url = contents['url']\n",
        "    return url"
      ],
      "execution_count": 0,
      "outputs": []
    },
    {
      "cell_type": "markdown",
      "metadata": {
        "id": "a6ko51UG6_cR",
        "colab_type": "text"
      },
      "source": [
        "### Send the image to BOT"
      ]
    },
    {
      "cell_type": "code",
      "metadata": {
        "id": "HLpVXTZf583M",
        "colab_type": "code",
        "colab": {}
      },
      "source": [
        "def bop(bot, update):\n",
        "    url = get_url()\n",
        "    chat_id = update.message.chat_id\n",
        "    bot.send_photo(chat_id=chat_id, photo=url)"
      ],
      "execution_count": 0,
      "outputs": []
    },
    {
      "cell_type": "code",
      "metadata": {
        "id": "nA7I5RJ27nhc",
        "colab_type": "code",
        "colab": {}
      },
      "source": [
        "def main():\n",
        "    updater = Updater('YOUR_TOKEN')\n",
        "    dp = updater.dispatcher\n",
        "    dp.add_handler(CommandHandler('bop',bop))\n",
        "    updater.start_polling()\n",
        "    updater.idle()\n",
        "if __name__ == '__main__':\n",
        "    main()"
      ],
      "execution_count": 0,
      "outputs": []
    }
  ]
}